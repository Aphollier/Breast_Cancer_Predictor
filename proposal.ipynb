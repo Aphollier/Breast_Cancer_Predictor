{
 "cells": [
  {
   "cell_type": "markdown",
   "metadata": {},
   "source": [
    "# Breast Cancer Predictor \n",
    "\n",
    "### Alexander Hollier and Micheal Waight\n"
   ]
  },
  {
   "cell_type": "markdown",
   "metadata": {
    "vscode": {
     "languageId": "plaintext"
    }
   },
   "source": [
    "## Dataset Description\n",
    "\n",
    "Data Source: https://www.kaggle.com/datasets/uciml/breast-cancer-wisconsin-data?resource=download \n",
    "\n",
    "\n",
    "Data Format: Comma Seperated Values (csv)\n",
    "\n",
    "\n",
    "This Data gives the verdict of breast masses being either Beneign (B) or Malignent (M) along with the mean's of radius, texture, perimeter, area, smoothness, compactness, concavity, and concave points.\n",
    "\n",
    "The class attribute will be diagnosis as we want to predict whether or not the mass is Beneign or Malignent.\n",
    "\n",
    "Radius: mean of distances from center to points on the perimeter \\\n",
    "Texture: standard deviation of gray-scale values \\\n",
    "Perimeter: mean size of the core tumor \\\n",
    "Area: The area of the core tumor \\\n",
    "Smoothness: mean of local variation in radius lengths \\\n",
    "Compactness: mean of perimeter^2 / area - 1.0 \\\n",
    "Concavity: mean of severity of concave portions of the contour \\\n",
    "Concave Points: mean for number of concave portions of the contour"
   ]
  },
  {
   "cell_type": "markdown",
   "metadata": {},
   "source": [
    "## Implementation/technical merit\n",
    "#### Challenges Expected\n",
    "\n",
    "All of our data points besides our class artibute are continuous, so for certain classifiers we will have to make adjustments to make them for for continuous attributes\n",
    "\n",
    "500 data points is not a massive number, but hopefully it will be enough for our predictor\n",
    "\n",
    "#### Large Number of Attributes?\n",
    "\n",
    "With 8 attributes plus the class attribute, our dataset has a fairly high number of attributes, but not enough that I think we would need to cut them down. \\\n",
    "The bigger issue may be the availability or nessesity of all attributes. Like if someone wants to use the predictor who knows the radius, area, perimeter, smoothness, and compactness, but may be missing texture, concavity and concave points. If they are missing these values we would still want the classifier to work so editing our classifier to work around missing attributes should be a priority."
   ]
  },
  {
   "cell_type": "markdown",
   "metadata": {},
   "source": [
    "## Potential impact of the results\n",
    "\n",
    "The difficulty of predicting the impactfulness of this predictor comes from the fact that regardless of what out predictor says, it is still best to get any masses checked out by a doctor malignent or not, but if our predictor could show that a mass is malignant for someone it could be impactful in telling them the ugency of the situation and show them that they should get help as soon as possible. As such our stakeholds would most likely be those with history or increased risk of breast cancer."
   ]
  }
 ],
 "metadata": {
  "kernelspec": {
   "display_name": "Python 3.9.2 64-bit",
   "language": "python",
   "name": "python3"
  },
  "language_info": {
   "name": "python",
   "version": "3.9.2"
  },
  "orig_nbformat": 4,
  "vscode": {
   "interpreter": {
    "hash": "31f2aee4e71d21fbe5cf8b01ff0e069b9275f58929596ceb00d14d90e3e16cd6"
   }
  }
 },
 "nbformat": 4,
 "nbformat_minor": 2
}
