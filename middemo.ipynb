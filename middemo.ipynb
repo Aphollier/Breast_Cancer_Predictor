{
 "cells": [
  {
   "cell_type": "code",
   "execution_count": 35,
   "metadata": {},
   "outputs": [],
   "source": [
    "# some useful mysklearn package import statements and reloads\n",
    "import importlib\n",
    "\n",
    "import mysklearn.myutils\n",
    "importlib.reload(mysklearn.myutils)\n",
    "import mysklearn.myutils as myutils\n",
    "\n",
    "# uncomment once you paste your mypytable.py into mysklearn package\n",
    "import mysklearn.mypytable\n",
    "importlib.reload(mysklearn.mypytable)\n",
    "from mysklearn.mypytable import MyPyTable \n",
    "\n",
    "# uncomment once you paste your myclassifiers.py into mysklearn package\n",
    "import mysklearn.myclassifiers\n",
    "importlib.reload(mysklearn.myclassifiers)\n",
    "from mysklearn.myclassifiers import MyKNeighborsClassifier, MyDummyClassifier, MyNaiveBayesClassifier, MyDecisionTreeClassifier\n",
    "\n",
    "import mysklearn.myevaluation\n",
    "importlib.reload(mysklearn.myevaluation)\n",
    "import mysklearn.myevaluation as myevaluation"
   ]
  },
  {
   "cell_type": "markdown",
   "metadata": {},
   "source": [
    "# Breast Cancer Prediction Mid Demo\n",
    "\n",
    "We start by cleaning the data. Cancer_Type, BMI, and Patient Study ID are being removed due to irrelavence, missing data, and because they were unlisted on the dataset preview and were thus were not needed."
   ]
  },
  {
   "cell_type": "code",
   "execution_count": 19,
   "metadata": {},
   "outputs": [],
   "source": [
    "data = MyPyTable()\n",
    "data.load_from_file(\"input_data/breastcancer.csv\")\n",
    "data.rem_column(\"Cancer_Type\")\n",
    "data.rem_column(\"Body_Mass_Index\")\n",
    "data.rem_column(\"Patients_Study_ID\")\n",
    "data.save_to_file(\"input_data/breast_cancer_clean.csv\")\n",
    "y = data.get_column(\"Radiologists_Assessment\")\n",
    "data.rem_column(\"Radiologists_Assessment\")\n",
    "X = data.data"
   ]
  },
  {
   "cell_type": "code",
   "execution_count": 53,
   "metadata": {},
   "outputs": [],
   "source": [
    "nvb_clf = MyNaiveBayesClassifier()\n",
    "knn_clf = MyKNeighborsClassifier(3)\n",
    "\n",
    "split = myevaluation.stratified_kfold_split(X[:1000], y[:1000], 10, 10, True)"
   ]
  },
  {
   "cell_type": "code",
   "execution_count": 54,
   "metadata": {},
   "outputs": [],
   "source": [
    "X_train = []\n",
    "y_train = []\n",
    "X_test = []\n",
    "y_test = []\n",
    "for train, test in split:\n",
    "    for i in train:\n",
    "        X_train.append(X[i])\n",
    "        y_train.append(y[i])\n",
    "    for i in test:\n",
    "        X_test.append(X[i])\n",
    "        y_test.append(y[i])\n",
    "\n",
    "nvb_clf.fit(X_train, y_train)\n",
    "knn_clf.fit(X_train, y_train)\n",
    "\n",
    "knn_pred = knn_clf.predict(X_test, True)\n",
    "nvb_pred = nvb_clf.predict(X_test)\n"
   ]
  },
  {
   "cell_type": "code",
   "execution_count": 55,
   "metadata": {},
   "outputs": [
    {
     "name": "stdout",
     "output_type": "stream",
     "text": [
      "===========================================\n",
      "STEP 1: Predictive Accuracy\n",
      "===========================================\n",
      "Stratified 10-Fold Cross Validation\n",
      "k Nearest Neighbors Classifier: accuracy = 0.81, error rate = 0.19\n",
      "Naive Bayes Classifier: accuracy = 0.46, error rate = 0.54\n"
     ]
    }
   ],
   "source": [
    "knn_acc = myevaluation.accuracy_score(y_test, knn_pred)\n",
    "nvb_acc = myevaluation.accuracy_score(y_test, nvb_pred)\n",
    "print(\"===========================================\")\n",
    "print(\"STEP 1: Predictive Accuracy\")\n",
    "print(\"===========================================\")\n",
    "print(\"Stratified 10-Fold Cross Validation\")\n",
    "print(\"k Nearest Neighbors Classifier: accuracy = {}, error rate = {}\".format(round(knn_acc, 2), round(1-knn_acc, 2)))\n",
    "print(\"Naive Bayes Classifier: accuracy = {}, error rate = {}\".format(round(nvb_acc, 2), round(1-nvb_acc, 2)))"
   ]
  },
  {
   "cell_type": "code",
   "execution_count": 61,
   "metadata": {},
   "outputs": [
    {
     "name": "stdout",
     "output_type": "stream",
     "text": [
      "===========================================\n",
      "STEP 2: Predictive Accuracy\n",
      "===========================================\n",
      "Stratified 10-Fold Cross Validation\n",
      "k Nearest Neighbors Classifier: precision = 0.71, recall = 0.98, f1 = 0.83\n",
      "Naive Bayes Classifier: precision = 0.44, recall = 0.94, f1 = 0.6\n"
     ]
    }
   ],
   "source": [
    "knn_pre = myevaluation.binary_precision_score(y_test, knn_pred, pos_label=\"Negative\")\n",
    "nvb_pre = myevaluation.binary_precision_score(y_test, nvb_pred, pos_label=\"Negative\")\n",
    "knn_rec = myevaluation.binary_recall_score(y_test, knn_pred, pos_label=\"Negative\")\n",
    "nvb_rec = myevaluation.binary_recall_score(y_test, nvb_pred, pos_label=\"Negative\")\n",
    "knn_f1 = myevaluation.binary_f1_score(y_test, knn_pred, pos_label=\"Negative\")\n",
    "nvb_f1 = myevaluation.binary_f1_score(y_test, nvb_pred, pos_label=\"Negative\")\n",
    "print(\"===========================================\")\n",
    "print(\"STEP 2: Predictive Accuracy\")\n",
    "print(\"===========================================\")\n",
    "print(\"Stratified 10-Fold Cross Validation\")\n",
    "print(\"k Nearest Neighbors Classifier: precision = {}, recall = {}, f1 = {}\".format(round(knn_pre, 2), round(knn_rec, 2), round(knn_f1, 2)))\n",
    "print(\"Naive Bayes Classifier: precision = {}, recall = {}, f1 = {}\".format(round(nvb_pre, 2), round(nvb_rec, 2), round(nvb_f1, 2)))"
   ]
  },
  {
   "cell_type": "code",
   "execution_count": 64,
   "metadata": {},
   "outputs": [
    {
     "name": "stdout",
     "output_type": "stream",
     "text": [
      "===========================================\n",
      "STEP 4: Confusion Matrices\n",
      "===========================================\n",
      "k Nearest Neighbors Classifier (Stratified 10-Fold Cross Validation Results):\n",
      "  Negative    Benign findings    Probably benign    Needs additional imaging    Suspicious abnormality\n",
      "----------  -----------------  -----------------  --------------------------  ------------------------\n",
      "       196                  4                  0                           0                         0\n",
      "        49                147                  0                           4                         0\n",
      "         2                  0                  3                           0                         0\n",
      "        27                  6                  0                          42                         0\n",
      "         1                  0                  0                           0                         1\n",
      "Naive Bayes Classifier (Stratified 10-Fold Cross Validation Results):\n",
      "  Negative    Benign findings    Probably benign    Needs additional imaging    Suspicious abnormality\n",
      "----------  -----------------  -----------------  --------------------------  ------------------------\n",
      "       187                  9                  0                           4                         0\n",
      "       175                 23                  0                           2                         0\n",
      "         4                  1                  0                           0                         0\n",
      "        60                  6                  0                           9                         0\n",
      "         1                  0                  0                           0                         1\n"
     ]
    }
   ],
   "source": [
    "from tabulate import tabulate \n",
    "\n",
    "knn_matrix = myevaluation.confusion_matrix(y_test, knn_pred, [\"Negative\", \"Benign findings\", \"Probably benign\", \"Needs additional imaging\", \"Suspicious abnormality\"])\n",
    "nvb_matrix = myevaluation.confusion_matrix(y_test, nvb_pred, [\"Negative\", \"Benign findings\", \"Probably benign\", \"Needs additional imaging\", \"Suspicious abnormality\"])\n",
    "\n",
    "print(\"===========================================\")\n",
    "print(\"STEP 4: Confusion Matrices\")\n",
    "print(\"===========================================\")\n",
    "print(\"k Nearest Neighbors Classifier (Stratified 10-Fold Cross Validation Results):\")\n",
    "\n",
    "print(tabulate(knn_matrix, headers=[\"Negative\", \"Benign findings\", \"Probably benign\", \"Needs additional imaging\", \"Suspicious abnormality\"]))\n",
    "\n",
    "print(\"Naive Bayes Classifier (Stratified 10-Fold Cross Validation Results):\")\n",
    "\n",
    "print(tabulate(nvb_matrix, headers=[\"Negative\", \"Benign findings\", \"Probably benign\", \"Needs additional imaging\", \"Suspicious abnormality\"]))"
   ]
  }
 ],
 "metadata": {
  "kernelspec": {
   "display_name": "Python 3.9.12 ('base')",
   "language": "python",
   "name": "python3"
  },
  "language_info": {
   "codemirror_mode": {
    "name": "ipython",
    "version": 3
   },
   "file_extension": ".py",
   "mimetype": "text/x-python",
   "name": "python",
   "nbconvert_exporter": "python",
   "pygments_lexer": "ipython3",
   "version": "3.9.12"
  },
  "vscode": {
   "interpreter": {
    "hash": "d4d1e4263499bec80672ea0156c357c1ee493ec2b1c70f0acce89fc37c4a6abe"
   }
  }
 },
 "nbformat": 4,
 "nbformat_minor": 4
}
